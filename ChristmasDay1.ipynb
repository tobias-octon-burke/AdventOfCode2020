{
 "cells": [
  {
   "cell_type": "markdown",
   "metadata": {},
   "source": [
    "# First day of christmas\n",
    "\n",
    "### Star 1\n",
    "\n",
    "*Find the two entries that sum to 2020; what do you get if you multiply them together?*\n",
    "\n",
    "Plan:\n",
    "* load the numbers from the input as numpy array\n",
    "* for each record of the list, add each element to it and check the result"
   ]
  },
  {
   "cell_type": "code",
   "execution_count": 5,
   "metadata": {},
   "outputs": [],
   "source": [
    "import pandas as pd\n",
    "import numpy as np\n",
    "import os"
   ]
  },
  {
   "cell_type": "code",
   "execution_count": 18,
   "metadata": {},
   "outputs": [],
   "source": [
    "Numbers_array = np.genfromtxt(\"Numbers.csv\")"
   ]
  },
  {
   "cell_type": "code",
   "execution_count": 28,
   "metadata": {},
   "outputs": [
    {
     "name": "stdout",
     "output_type": "stream",
     "text": [
      "first number: 28.0  second number: 1992.0\n",
      "product of numbers: 55776.0\n",
      "first number: 1992.0  second number: 28.0\n",
      "product of numbers: 55776.0\n"
     ]
    }
   ],
   "source": [
    "# remove the record you're going to add to each element of the list\n",
    "# add the record together\n",
    "# if the result is 2020 - give me both records\n",
    "\n",
    "for i in range(len(Numbers_array)):\n",
    "    \n",
    "    current_number = Numbers_array[i]\n",
    "    array_without_current_number = np.delete(Numbers_array, [i])\n",
    "    \n",
    "    # add current_number to each element of the new array\n",
    "    \n",
    "    for i in range(len(array_without_current_number)):\n",
    "        \n",
    "        sum_of_numbers = current_number + array_without_current_number[i]\n",
    "        \n",
    "        if sum_of_numbers == 2020:\n",
    "            print('first number:',current_number,' second number:',array_without_current_number[i])\n",
    "            \n",
    "            result = current_number * array_without_current_number[i]\n",
    "            print('product of numbers:',result)\n",
    "        else:\n",
    "            pass\n",
    "    "
   ]
  },
  {
   "cell_type": "markdown",
   "metadata": {},
   "source": [
    "### Star 2\n",
    "\n",
    "*what is the product of the three entries that sum to 2020?*"
   ]
  },
  {
   "cell_type": "code",
   "execution_count": 31,
   "metadata": {},
   "outputs": [
    {
     "name": "stdout",
     "output_type": "stream",
     "text": [
      "first number: 983.0 second number: 314.0  third number: 723.0\n",
      "product of numbers: 223162626.0\n",
      "first number: 983.0 second number: 723.0  third number: 314.0\n",
      "product of numbers: 223162626.0\n",
      "first number: 314.0 second number: 983.0  third number: 723.0\n",
      "product of numbers: 223162626.0\n",
      "first number: 314.0 second number: 723.0  third number: 983.0\n",
      "product of numbers: 223162626.0\n",
      "first number: 723.0 second number: 983.0  third number: 314.0\n",
      "product of numbers: 223162626.0\n",
      "first number: 723.0 second number: 314.0  third number: 983.0\n",
      "product of numbers: 223162626.0\n"
     ]
    }
   ],
   "source": [
    "# add additional for loop \n",
    "\n",
    "for i in range(len(Numbers_array)):\n",
    "    \n",
    "    current_number_1 = Numbers_array[i]\n",
    "    array_without_current_number_1 = np.delete(Numbers_array, [i])\n",
    "    \n",
    "    for i in range(len(array_without_current_number_1)):\n",
    "        \n",
    "        current_number_2 = array_without_current_number[i]\n",
    "        array_without_current_number_1_2 = np.delete(array_without_current_number_1, [i])\n",
    "        \n",
    "        for i in range(len(array_without_current_number_1_2)):\n",
    "        \n",
    "            sum_of_numbers = current_number_1 + current_number_2 + array_without_current_number_1_2[i]\n",
    "        \n",
    "            if sum_of_numbers == 2020:\n",
    "                print('first number:',current_number_1,'second number:',current_number_2\n",
    "                      ,' third number:',array_without_current_number_1_2[i])\n",
    "            \n",
    "                result = current_number_1 * current_number_2 * array_without_current_number_1_2[i]\n",
    "                print('product of numbers:',result)\n",
    "            else:\n",
    "                pass"
   ]
  },
  {
   "cell_type": "code",
   "execution_count": null,
   "metadata": {},
   "outputs": [],
   "source": []
  }
 ],
 "metadata": {
  "kernelspec": {
   "display_name": "Python 3",
   "language": "python",
   "name": "python3"
  },
  "language_info": {
   "codemirror_mode": {
    "name": "ipython",
    "version": 3
   },
   "file_extension": ".py",
   "mimetype": "text/x-python",
   "name": "python",
   "nbconvert_exporter": "python",
   "pygments_lexer": "ipython3",
   "version": "3.8.5"
  }
 },
 "nbformat": 4,
 "nbformat_minor": 4
}
